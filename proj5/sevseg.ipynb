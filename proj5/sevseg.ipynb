{
 "cells": [
  {
   "cell_type": "markdown",
   "metadata": {},
   "source": [
    "![](seven_segment.png)"
   ]
  },
  {
   "cell_type": "code",
   "execution_count": 34,
   "metadata": {},
   "outputs": [
    {
     "data": {
      "text/plain": [
       "'abcdef'"
      ]
     },
     "execution_count": 34,
     "metadata": {},
     "output_type": "execute_result"
    }
   ],
   "source": []
  },
  {
   "cell_type": "code",
   "execution_count": 8,
   "metadata": {},
   "outputs": [
    {
     "name": "stdout",
     "output_type": "stream",
     "text": [
      "i_3,i_2,i_1,i_0,,a,b,c,d,e,f,g\n",
      "0,0,0,0,,1,1,1,1,1,1,0\n",
      "0,0,0,1,,0,1,1,0,0,0,0\n",
      "0,0,1,0,,1,1,0,1,1,0,1\n",
      "0,0,1,1,,1,1,1,1,0,0,1\n",
      "0,1,0,0,,0,1,1,0,0,1,1\n",
      "0,1,0,1,,1,0,1,1,0,1,1\n",
      "0,1,1,0,,1,0,1,1,1,1,1\n",
      "0,1,1,1,,1,1,1,0,0,0,0\n",
      "1,0,0,0,,1,1,1,1,1,1,1\n",
      "1,0,0,1,,1,1,1,1,0,1,1\n",
      "1,0,1,0,,x,x,x,x,x,x,x\n",
      "1,0,1,1,,x,x,x,x,x,x,x\n",
      "1,1,0,0,,x,x,x,x,x,x,x\n",
      "1,1,0,1,,x,x,x,x,x,x,x\n",
      "1,1,1,0,,x,x,x,x,x,x,x\n",
      "1,1,1,1,,x,x,x,x,x,x,x\n",
      "\n"
     ]
    }
   ],
   "source": [
    "patterns = [\n",
    "    \"abcdef\", #0\n",
    "    \"bc\",\n",
    "    \"abdeg\",\n",
    "    \"abcdg\",\n",
    "    \"bcgf\",\n",
    "    \"acdfg\",\n",
    "    \"acdefg\",\n",
    "    \"abc\",\n",
    "    \"abcdefg\",\n",
    "    \"abcdfg\", # 9\n",
    "]\n",
    "\n",
    "al = \"abcdefg\"\n",
    "patterns_bin = []\n",
    "\n",
    "for pat in patterns:\n",
    "    out = []\n",
    "\n",
    "    for a in al:\n",
    "        if a in pat:\n",
    "            out.append(1)\n",
    "        else:\n",
    "            out.append(0)\n",
    "\n",
    "    patterns_bin.append(out)\n",
    "\n",
    "table = \"\"\n",
    "# print(\"i_3,i_2,i_1,i_0,,a,b,c,d,e,f,g\")\n",
    "table += \"i_3,i_2,i_1,i_0,,a,b,c,d,e,f,g\\n\"\n",
    "for i in range(16):\n",
    "    inp = f\"{i:04b}\"\n",
    "    inp = [int(c) for c in inp]\n",
    "    inp = \",\".join(map(str, inp))\n",
    "    \n",
    "    if i < 10:\n",
    "        out = patterns_bin[i]\n",
    "        out = \",\".join(map(str, out))\n",
    "    else:\n",
    "        out = \"x,x,x,x,x,x,x\"\n",
    "\n",
    "    table += f\"{inp},,{out}\\n\"\n",
    "    #print(f\"{inp},,{out}\")\n",
    "\n",
    "with open(\"sevseg.csv\", \"w+\") as f:\n",
    "    f.write(table)\n",
    "print(table)"
   ]
  },
  {
   "cell_type": "code",
   "execution_count": 2,
   "metadata": {},
   "outputs": [
    {
     "name": "stdout",
     "output_type": "stream",
     "text": [
      "0000\n",
      "0001\n",
      "0010\n",
      "0011\n",
      "0100\n",
      "0101\n",
      "0110\n",
      "0111\n",
      "1000\n",
      "1001\n",
      "1010\n",
      "1011\n",
      "1100\n",
      "1101\n",
      "1110\n",
      "1111\n"
     ]
    }
   ],
   "source": [
    "for i in range(16):\n",
    "    inp = f\"{i:04b}\"\n",
    "    print(inp)"
   ]
  },
  {
   "cell_type": "code",
   "execution_count": null,
   "metadata": {},
   "outputs": [],
   "source": []
  }
 ],
 "metadata": {
  "kernelspec": {
   "display_name": "Python 3",
   "language": "python",
   "name": "python3"
  },
  "language_info": {
   "codemirror_mode": {
    "name": "ipython",
    "version": 3
   },
   "file_extension": ".py",
   "mimetype": "text/x-python",
   "name": "python",
   "nbconvert_exporter": "python",
   "pygments_lexer": "ipython3",
   "version": "3.10.9"
  },
  "orig_nbformat": 4
 },
 "nbformat": 4,
 "nbformat_minor": 2
}
